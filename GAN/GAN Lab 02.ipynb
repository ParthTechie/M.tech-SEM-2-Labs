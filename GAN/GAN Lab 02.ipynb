{
 "cells": [
  {
   "cell_type": "markdown",
   "id": "13b72673-4012-43ad-9254-3ab8297ce953",
   "metadata": {},
   "source": [
    "## D Vamsidhar - 24070149005\n",
    "### Lab 02 - Autoencoder Pytorch\n",
    "### 16 Jan 2025"
   ]
  },
  {
   "cell_type": "code",
   "execution_count": 1,
   "id": "6f90f51e-16cd-4e85-9c9e-0bc948437175",
   "metadata": {},
   "outputs": [],
   "source": [
    "# importing necessary libraries\n",
    "import os\n",
    "import numpy as np\n",
    "import torch\n",
    "import torch.nn as nn\n",
    "import torch.nn.functional as F\n",
    "import torch.optim as optim\n",
    "from torchvision import datasets, transforms\n",
    "import matplotlib.pyplot as plt"
   ]
  },
  {
   "cell_type": "code",
   "execution_count": 8,
   "id": "d75d0d8d-d7b5-4430-8580-230cb9f510c6",
   "metadata": {},
   "outputs": [],
   "source": [
    "transform = transforms.Compose(\n",
    "    [transforms.ToTensor(),\n",
    "     transforms.Normalize((0.5), (0.5))\n",
    "    ])\n",
    "\n",
    "transform = transforms.ToTensor()\n",
    "\n",
    "mnist_data = datasets.MNIST(root='./data', train=True, download=True, transform=transform)\n",
    "\n",
    "data_loader = torch.utils.data.DataLoader(dataset=mnist_data,\n",
    "                                          batch_size=64,\n",
    "                                          shuffle=True)"
   ]
  },
  {
   "cell_type": "code",
   "execution_count": 9,
   "id": "bbdec381-ded9-451a-95d5-842ff35f1b68",
   "metadata": {},
   "outputs": [
    {
     "name": "stdout",
     "output_type": "stream",
     "text": [
      "tensor(0.) tensor(1.)\n"
     ]
    }
   ],
   "source": [
    "data_iter = iter(data_loader)\n",
    "images, labels = next(data_iter)\n",
    "print(torch.min(images), torch.max(images))"
   ]
  },
  {
   "cell_type": "code",
   "execution_count": 27,
   "id": "657ab5bb-01fa-4305-a293-9399b4e1db62",
   "metadata": {},
   "outputs": [],
   "source": [
    "# Build an Autoencoder\n",
    "class AutoEncoder_Linear(nn.Module):\n",
    "    def __init__(self):  # Corrected __init__ method\n",
    "        super().__init__()\n",
    "        # Define the encoder\n",
    "        self.encoder = nn.Sequential(\n",
    "            nn.Linear(28 * 28, 128), \n",
    "            nn.ReLU(),\n",
    "            nn.Linear(128, 64),\n",
    "            nn.ReLU(),\n",
    "            nn.Linear(64, 12),\n",
    "            nn.ReLU(),\n",
    "            nn.Linear(12, 3)\n",
    "        )\n",
    "        # Define the decoder\n",
    "        self.decoder = nn.Sequential(\n",
    "            nn.Linear(3, 12),\n",
    "            nn.ReLU(),  # Corrected typo from RelU to ReLU\n",
    "            nn.Linear(12, 64), \n",
    "            nn.ReLU(),\n",
    "            nn.Linear(64, 128),\n",
    "            nn.ReLU(),\n",
    "            nn.Linear(128, 28 * 28),\n",
    "            nn.Sigmoid()\n",
    "        )\n",
    "\n",
    "    def forward(self, x):\n",
    "        encoded = self.encoder(x)\n",
    "        decoded = self.decoder(encoded)\n",
    "        return decoded\n"
   ]
  },
  {
   "cell_type": "code",
   "execution_count": 28,
   "id": "80264e38-5486-468d-89b0-e982fd8e70dd",
   "metadata": {},
   "outputs": [],
   "source": [
    "# Instantiate the model\n",
    "model = AutoEncoder_Linear()\n",
    "\n",
    "# Define the loss function and optimizer\n",
    "criterion = nn.MSELoss()\n",
    "optimizer = optim.Adam(model.parameters(), lr=1e-3, weight_decay=1e-5)"
   ]
  },
  {
   "cell_type": "code",
   "execution_count": 29,
   "id": "413445c6-ade4-4519-86e9-d54512d2dd8b",
   "metadata": {},
   "outputs": [
    {
     "name": "stdout",
     "output_type": "stream",
     "text": [
      "Epoch:1, loss:0.0510\n",
      "Epoch:2, loss:0.0469\n",
      "Epoch:3, loss:0.0395\n",
      "Epoch:4, loss:0.0392\n",
      "Epoch:5, loss:0.0408\n",
      "Epoch:6, loss:0.0318\n",
      "Epoch:7, loss:0.0403\n",
      "Epoch:8, loss:0.0375\n",
      "Epoch:9, loss:0.0383\n",
      "Epoch:10, loss:0.0345\n"
     ]
    }
   ],
   "source": [
    "# Point to training loop video\n",
    "num_epochs = 10\n",
    "outputs = []\n",
    "for epoch in range(num_epochs):\n",
    "    for (img, _) in data_loader:\n",
    "        img = img.view(-1, 28*28)\n",
    "        recon = model(img)\n",
    "        loss = criterion(recon, img)\n",
    "\n",
    "        optimizer.zero_grad()\n",
    "        loss.backward()\n",
    "        optimizer.step()\n",
    "\n",
    "    print(f'Epoch:{epoch+1}, loss:{loss.item():.4f}')\n",
    "    outputs.append((epoch, img, recon))"
   ]
  },
  {
   "cell_type": "code",
   "execution_count": null,
   "id": "4bef5c54-5182-454a-b28f-da5d3256d3ea",
   "metadata": {},
   "outputs": [],
   "source": []
  }
 ],
 "metadata": {
  "kernelspec": {
   "display_name": "Python 3 (ipykernel)",
   "language": "python",
   "name": "python3"
  },
  "language_info": {
   "codemirror_mode": {
    "name": "ipython",
    "version": 3
   },
   "file_extension": ".py",
   "mimetype": "text/x-python",
   "name": "python",
   "nbconvert_exporter": "python",
   "pygments_lexer": "ipython3",
   "version": "3.11.7"
  }
 },
 "nbformat": 4,
 "nbformat_minor": 5
}

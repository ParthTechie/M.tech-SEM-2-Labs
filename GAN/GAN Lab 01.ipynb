{
 "cells": [
  {
   "cell_type": "markdown",
   "id": "69542c45-b55a-4aec-825e-1890785498a5",
   "metadata": {},
   "source": [
    "## D Vamsidhar - 24070149005\n",
    "### Lab 01 - GAN - Creation of Tensors"
   ]
  },
  {
   "cell_type": "code",
   "execution_count": 1,
   "id": "3a6cd245-bdf8-4106-9eef-42c934706ead",
   "metadata": {},
   "outputs": [],
   "source": [
    "import torch"
   ]
  },
  {
   "cell_type": "code",
   "execution_count": 5,
   "id": "1c0a7bbf-3cb8-4cf4-a042-c02277d47d23",
   "metadata": {},
   "outputs": [
    {
     "name": "stdout",
     "output_type": "stream",
     "text": [
      "Tensor from list :  tensor([1., 2., 3., 4.])\n"
     ]
    }
   ],
   "source": [
    "# Create a tensor from a Python list \n",
    "tensor_from_list = torch.Tensor([1, 2, 3, 4])\n",
    "print(\"Tensor from list : \", tensor_from_list)"
   ]
  },
  {
   "cell_type": "code",
   "execution_count": 7,
   "id": "48f71c75-2f9c-4e30-a1e9-6ca6a35d973b",
   "metadata": {},
   "outputs": [
    {
     "name": "stdout",
     "output_type": "stream",
     "text": [
      "Zeros Tensor :  tensor([[0., 0., 0.],\n",
      "        [0., 0., 0.]])\n"
     ]
    }
   ],
   "source": [
    "# Create a tensor of zeroes with specified shape\n",
    "zeros_tensor = torch.Tensor(2,3).zero_()\n",
    "print(\"Zeros Tensor : \", zeros_tensor)"
   ]
  },
  {
   "cell_type": "code",
   "execution_count": 11,
   "id": "656dfb18-12d0-45f0-ab1f-564749d5144c",
   "metadata": {},
   "outputs": [
    {
     "name": "stdout",
     "output_type": "stream",
     "text": [
      "Ones Tensor :  tensor([[1., 1., 1.],\n",
      "        [1., 1., 1.],\n",
      "        [1., 1., 1.]])\n"
     ]
    }
   ],
   "source": [
    "# Create a tensor of ones with a specified shape\n",
    "ones_tensor = torch.ones(3,3)\n",
    "print(\"Ones Tensor : \", ones_tensor)"
   ]
  },
  {
   "cell_type": "code",
   "execution_count": 12,
   "id": "fb81bb60-57d3-457b-aaa6-9b986a30ed15",
   "metadata": {},
   "outputs": [
    {
     "name": "stdout",
     "output_type": "stream",
     "text": [
      "Ones Tensor :  tensor([[1., 1., 1.],\n",
      "        [1., 1., 1.],\n",
      "        [1., 1., 1.]])\n"
     ]
    }
   ],
   "source": [
    "ones_tensor = torch.Tensor(3,3).fill_(1)\n",
    "print(\"Ones Tensor : \", ones_tensor)"
   ]
  },
  {
   "cell_type": "markdown",
   "id": "80517602-cebb-46b6-b254-a9878af7b34d",
   "metadata": {},
   "source": [
    "### Mathematical Operations"
   ]
  },
  {
   "cell_type": "code",
   "execution_count": 13,
   "id": "1c8ecd15-ec78-4dfa-b74f-f8318c7a16ad",
   "metadata": {},
   "outputs": [
    {
     "name": "stdout",
     "output_type": "stream",
     "text": [
      "Element-wise Addition :  tensor([5., 7., 9.])\n",
      "Element-wise Subtraction :  tensor([-3., -3., -3.])\n",
      "Element-wise Multiplication :  tensor([ 4., 10., 18.])\n"
     ]
    }
   ],
   "source": [
    "# Create two tensors for demonstration\n",
    "tensor_a = torch.Tensor([1,2,3])\n",
    "tensor_b = torch.Tensor([4,5,6])\n",
    "\n",
    "# Addition \n",
    "result_addition = tensor_a + tensor_b\n",
    "print(\"Element-wise Addition : \",result_addition)\n",
    "\n",
    "# Subtraction\n",
    "result_subtraction = tensor_a - tensor_b\n",
    "print(\"Element-wise Subtraction : \",result_subtraction)\n",
    "\n",
    "# Multiplication\n",
    "result_multiplication = tensor_a * tensor_b\n",
    "print(\"Element-wise Multiplication : \",result_multiplication)\n"
   ]
  },
  {
   "cell_type": "markdown",
   "id": "bd6361bc-b177-4c26-a643-b55f2504b53a",
   "metadata": {},
   "source": [
    "### Indexing and Slicing"
   ]
  },
  {
   "cell_type": "code",
   "execution_count": 15,
   "id": "7a6ea944-66be-404a-95bf-970c4dbe37e6",
   "metadata": {},
   "outputs": [
    {
     "name": "stdout",
     "output_type": "stream",
     "text": [
      "Element at index (1, 1): tensor(5.)\n",
      "Sliced rows:  tensor([[1., 2., 3.],\n",
      "        [4., 5., 6.]])\n",
      "Sliced column:  tensor([2., 5., 8.])\n"
     ]
    }
   ],
   "source": [
    "# Create a tensor for demonstration \n",
    "tensor_example = torch.Tensor([[1,2,3], [4,5,6], [7,8,9]])\n",
    "\n",
    "# Accessing a specific element\n",
    "element_at_index_1_1 = tensor_example[1, 1]\n",
    "print(\"Element at index (1, 1):\", element_at_index_1_1)\n",
    "\n",
    "# Slicing along rows and columns \n",
    "row_slice = tensor_example[0:2, :]\n",
    "column_slice = tensor_example[:, 1]\n",
    "print(\"Sliced rows: \", row_slice)\n",
    "print(\"Sliced column: \", column_slice)"
   ]
  },
  {
   "cell_type": "markdown",
   "id": "4446ecfb-61dc-4391-9dc8-177c9d603ece",
   "metadata": {},
   "source": [
    "### Grading Computation"
   ]
  },
  {
   "cell_type": "code",
   "execution_count": 24,
   "id": "2e54a224-6077-44ce-9a11-28beb4e98f34",
   "metadata": {},
   "outputs": [
    {
     "name": "stdout",
     "output_type": "stream",
     "text": [
      "x:  tensor(2., requires_grad=True)\n",
      "y:  tensor(5., grad_fn=<AddBackward0>)\n",
      "x.grad:  tensor(4.)\n"
     ]
    }
   ],
   "source": [
    "x = torch.tensor(2.0, requires_grad = True)\n",
    "print(\"x: \", x)\n",
    "\n",
    "y = x**2 + 1\n",
    "print(\"y: \", y)\n",
    "\n",
    "y.backward()\n",
    "\n",
    "dx = x.grad\n",
    "print(\"x.grad: \", dx)"
   ]
  },
  {
   "cell_type": "markdown",
   "id": "410af77b-1ff7-48e5-8fec-6c0bbdcf2c31",
   "metadata": {},
   "source": [
    "### Matrix Operations"
   ]
  },
  {
   "cell_type": "code",
   "execution_count": 39,
   "id": "3d51daeb-1211-4d2b-b089-6d49cef1c53f",
   "metadata": {},
   "outputs": [
    {
     "name": "stdout",
     "output_type": "stream",
     "text": [
      "Matrix Multiplication:  tensor([[16., 19.],\n",
      "        [36., 43.]])\n",
      "Eigen Values: tensor([ 0.0679+0.j, 58.9321+0.j])\n",
      "Eigen Vectors:  tensor([[-0.7663+0.j, -0.4047+0.j],\n",
      "        [ 0.6425+0.j, -0.9145+0.j]])\n"
     ]
    }
   ],
   "source": [
    "matrix_a = torch.Tensor([[1,2],[3,4]])\n",
    "matrix_b = torch.Tensor([[4,5],[6,7]])\n",
    "result = torch.mm(matrix_a, matrix_b)\n",
    "\n",
    "# matrix multiplication\n",
    "print(\"Matrix Multiplication: \",result)\n",
    "\n",
    "# eigen values & eigen vectors\n",
    "eigenvalues, eigenvectors = torch.linalg.eig(result)\n",
    "print(\"Eigen Values:\",eigenvalues)\n",
    "print(\"Eigen Vectors: \",eigenvectors)"
   ]
  },
  {
   "cell_type": "markdown",
   "id": "ff2cb64e-bec4-4112-9db3-f1b7449b50d0",
   "metadata": {},
   "source": [
    "### Norms"
   ]
  },
  {
   "cell_type": "code",
   "execution_count": null,
   "id": "efbb29a0-5228-47b1-8a9d-9a2442d78d5c",
   "metadata": {},
   "outputs": [],
   "source": [
    "# L2 Norms\n",
    "l2_norm = torch.norm(vec"
   ]
  },
  {
   "cell_type": "markdown",
   "id": "508f1c98-9d57-44cb-8975-fb4c8235081a",
   "metadata": {},
   "source": [
    "### Solve System of Linear Equations"
   ]
  },
  {
   "cell_type": "code",
   "execution_count": 43,
   "id": "ab3b3ce7-cafb-4b92-baa0-2ccc3dec9109",
   "metadata": {},
   "outputs": [
    {
     "ename": "RuntimeError",
     "evalue": "This function was deprecated since version 1.9 and is now removed. `torch.solve` is deprecated in favor of `torch.linalg.solve`. `torch.linalg.solve` has its arguments reversed and does not return the LU factorization.\n\nTo get the LU factorization see `torch.lu`, which can be used with `torch.lu_solve` or `torch.lu_unpack`.\nX = torch.solve(B, A).solution should be replaced with:\nX = torch.linalg.solve(A, B)",
     "output_type": "error",
     "traceback": [
      "\u001b[1;31m---------------------------------------------------------------------------\u001b[0m",
      "\u001b[1;31mRuntimeError\u001b[0m                              Traceback (most recent call last)",
      "Cell \u001b[1;32mIn[43], line 7\u001b[0m\n\u001b[0;32m      1\u001b[0m A \u001b[38;5;241m=\u001b[39m torch\u001b[38;5;241m.\u001b[39mtensor([[\u001b[38;5;241m2.0\u001b[39m, \u001b[38;5;241m-\u001b[39m\u001b[38;5;241m1.0\u001b[39m, \u001b[38;5;241m3.0\u001b[39m],\n\u001b[0;32m      2\u001b[0m                  [\u001b[38;5;241m1.0\u001b[39m, \u001b[38;5;241m1.0\u001b[39m, \u001b[38;5;241m1.0\u001b[39m],\n\u001b[0;32m      3\u001b[0m                  [\u001b[38;5;241m3.0\u001b[39m, \u001b[38;5;241m2.0\u001b[39m, \u001b[38;5;241m-\u001b[39m\u001b[38;5;241m2.0\u001b[39m]])\n\u001b[0;32m      5\u001b[0m b \u001b[38;5;241m=\u001b[39m torch\u001b[38;5;241m.\u001b[39mtensor([\u001b[38;5;241m8.0\u001b[39m, \u001b[38;5;241m4.0\u001b[39m, \u001b[38;5;241m10.0\u001b[39m])\n\u001b[1;32m----> 7\u001b[0m x, _ \u001b[38;5;241m=\u001b[39m torch\u001b[38;5;241m.\u001b[39msolve(b\u001b[38;5;241m.\u001b[39munsqueeze(\u001b[38;5;241m1\u001b[39m), A)\n\u001b[0;32m      8\u001b[0m x \u001b[38;5;241m=\u001b[39m x\u001b[38;5;241m.\u001b[39mspueeze()\n\u001b[0;32m     10\u001b[0m \u001b[38;5;28mprint\u001b[39m(x)\n",
      "File \u001b[1;32m~\\AppData\\Roaming\\Python\\Python311\\site-packages\\torch\\_linalg_utils.py:83\u001b[0m, in \u001b[0;36msolve\u001b[1;34m(input, A, out)\u001b[0m\n\u001b[0;32m     82\u001b[0m \u001b[38;5;28;01mdef\u001b[39;00m \u001b[38;5;21msolve\u001b[39m(\u001b[38;5;28minput\u001b[39m: Tensor, A: Tensor, \u001b[38;5;241m*\u001b[39m, out\u001b[38;5;241m=\u001b[39m\u001b[38;5;28;01mNone\u001b[39;00m) \u001b[38;5;241m-\u001b[39m\u001b[38;5;241m>\u001b[39m Tuple[Tensor, Tensor]:\n\u001b[1;32m---> 83\u001b[0m     \u001b[38;5;28;01mraise\u001b[39;00m \u001b[38;5;167;01mRuntimeError\u001b[39;00m(\n\u001b[0;32m     84\u001b[0m         \u001b[38;5;124m\"\u001b[39m\u001b[38;5;124mThis function was deprecated since version 1.9 and is now removed. \u001b[39m\u001b[38;5;124m\"\u001b[39m\n\u001b[0;32m     85\u001b[0m         \u001b[38;5;124m\"\u001b[39m\u001b[38;5;124m`torch.solve` is deprecated in favor of `torch.linalg.solve`. \u001b[39m\u001b[38;5;124m\"\u001b[39m\n\u001b[0;32m     86\u001b[0m         \u001b[38;5;124m\"\u001b[39m\u001b[38;5;124m`torch.linalg.solve` has its arguments reversed and does not return the LU factorization.\u001b[39m\u001b[38;5;130;01m\\n\u001b[39;00m\u001b[38;5;130;01m\\n\u001b[39;00m\u001b[38;5;124m\"\u001b[39m\n\u001b[0;32m     87\u001b[0m         \u001b[38;5;124m\"\u001b[39m\u001b[38;5;124mTo get the LU factorization see `torch.lu`, which can be used with `torch.lu_solve` or `torch.lu_unpack`.\u001b[39m\u001b[38;5;130;01m\\n\u001b[39;00m\u001b[38;5;124m\"\u001b[39m\n\u001b[0;32m     88\u001b[0m         \u001b[38;5;124m\"\u001b[39m\u001b[38;5;124mX = torch.solve(B, A).solution \u001b[39m\u001b[38;5;124m\"\u001b[39m\n\u001b[0;32m     89\u001b[0m         \u001b[38;5;124m\"\u001b[39m\u001b[38;5;124mshould be replaced with:\u001b[39m\u001b[38;5;130;01m\\n\u001b[39;00m\u001b[38;5;124m\"\u001b[39m\n\u001b[0;32m     90\u001b[0m         \u001b[38;5;124m\"\u001b[39m\u001b[38;5;124mX = torch.linalg.solve(A, B)\u001b[39m\u001b[38;5;124m\"\u001b[39m\n\u001b[0;32m     91\u001b[0m     )\n",
      "\u001b[1;31mRuntimeError\u001b[0m: This function was deprecated since version 1.9 and is now removed. `torch.solve` is deprecated in favor of `torch.linalg.solve`. `torch.linalg.solve` has its arguments reversed and does not return the LU factorization.\n\nTo get the LU factorization see `torch.lu`, which can be used with `torch.lu_solve` or `torch.lu_unpack`.\nX = torch.solve(B, A).solution should be replaced with:\nX = torch.linalg.solve(A, B)"
     ]
    }
   ],
   "source": [
    "A = torch.tensor([[2.0, -1.0, 3.0],\n",
    "                 [1.0, 1.0, 1.0],\n",
    "                 [3.0, 2.0, -2.0]])\n",
    "\n",
    "b = torch.tensor([8.0, 4.0, 10.0])\n",
    "\n",
    "x, _ = torch.solve(b.unsqueeze(1), A)\n",
    "x = x.spueeze()\n",
    "\n",
    "print(x)"
   ]
  },
  {
   "cell_type": "code",
   "execution_count": null,
   "id": "a592e5f5-ee53-465e-8e25-24207088d281",
   "metadata": {},
   "outputs": [],
   "source": []
  }
 ],
 "metadata": {
  "kernelspec": {
   "display_name": "Python 3 (ipykernel)",
   "language": "python",
   "name": "python3"
  },
  "language_info": {
   "codemirror_mode": {
    "name": "ipython",
    "version": 3
   },
   "file_extension": ".py",
   "mimetype": "text/x-python",
   "name": "python",
   "nbconvert_exporter": "python",
   "pygments_lexer": "ipython3",
   "version": "3.11.7"
  }
 },
 "nbformat": 4,
 "nbformat_minor": 5
}

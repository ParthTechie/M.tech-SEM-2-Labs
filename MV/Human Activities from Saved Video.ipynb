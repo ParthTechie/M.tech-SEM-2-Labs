{
 "cells": [
  {
   "cell_type": "code",
   "execution_count": 2,
   "id": "5bd5d41f-31a2-42b6-a534-45608cda0202",
   "metadata": {},
   "outputs": [
    {
     "ename": "ModuleNotFoundError",
     "evalue": "No module named 'pyopenpose'",
     "output_type": "error",
     "traceback": [
      "\u001b[1;31m---------------------------------------------------------------------------\u001b[0m",
      "\u001b[1;31mModuleNotFoundError\u001b[0m                       Traceback (most recent call last)",
      "Cell \u001b[1;32mIn[2], line 2\u001b[0m\n\u001b[0;32m      1\u001b[0m \u001b[38;5;28;01mimport\u001b[39;00m \u001b[38;5;21;01mcv2\u001b[39;00m\n\u001b[1;32m----> 2\u001b[0m \u001b[38;5;28;01mimport\u001b[39;00m \u001b[38;5;21;01mpyopenpose\u001b[39;00m \u001b[38;5;28;01mas\u001b[39;00m \u001b[38;5;21;01mop\u001b[39;00m  \u001b[38;5;66;03m# Ensure OpenPose Python API is installed\u001b[39;00m\n\u001b[0;32m      4\u001b[0m \u001b[38;5;66;03m# OpenPose parameters\u001b[39;00m\n\u001b[0;32m      5\u001b[0m params \u001b[38;5;241m=\u001b[39m {\n\u001b[0;32m      6\u001b[0m     \u001b[38;5;124m\"\u001b[39m\u001b[38;5;124mmodel_folder\u001b[39m\u001b[38;5;124m\"\u001b[39m: \u001b[38;5;124m\"\u001b[39m\u001b[38;5;124mmodels/\u001b[39m\u001b[38;5;124m\"\u001b[39m,  \u001b[38;5;66;03m# Path to OpenPose models (ensure it's correct)\u001b[39;00m\n\u001b[0;32m      7\u001b[0m     \u001b[38;5;124m\"\u001b[39m\u001b[38;5;124mnet_resolution\u001b[39m\u001b[38;5;124m\"\u001b[39m: \u001b[38;5;124m\"\u001b[39m\u001b[38;5;124m-1x368\u001b[39m\u001b[38;5;124m\"\u001b[39m,  \u001b[38;5;66;03m# Resolution for pose detection\u001b[39;00m\n\u001b[0;32m      8\u001b[0m }\n",
      "\u001b[1;31mModuleNotFoundError\u001b[0m: No module named 'pyopenpose'"
     ]
    }
   ],
   "source": [
    "import cv2\n",
    "import pyopenpose as op  # Ensure OpenPose Python API is installed\n",
    "\n",
    "# OpenPose parameters\n",
    "params = {\n",
    "    \"model_folder\": \"models/\",  # Path to OpenPose models (ensure it's correct)\n",
    "    \"net_resolution\": \"-1x368\",  # Resolution for pose detection\n",
    "}\n",
    "\n",
    "# Initialize OpenPose\n",
    "op_wrapper = op.WrapperPython()\n",
    "op_wrapper.configure(params)\n",
    "op_wrapper.start()\n",
    "\n",
    "# Video path\n",
    "video_path = \"D:\\output.mp4\"\n",
    "cap = cv2.VideoCapture(video_path)\n",
    "\n",
    "if not cap.isOpened():\n",
    "    print(\"Error: Unable to open video file.\")\n",
    "    exit()\n",
    "\n",
    "while cap.isOpened():\n",
    "    ret, frame = cap.read()\n",
    "    if not ret:\n",
    "        break\n",
    "\n",
    "    # Prepare frame for OpenPose\n",
    "    datum = op.Datum()\n",
    "    datum.cvInputData = frame\n",
    "    op_wrapper.emplaceAndPop([datum])\n",
    "\n",
    "    # Get pose keypoints\n",
    "    keypoints = datum.poseKeypoints\n",
    "\n",
    "    # Visualize keypoints on frame\n",
    "    output_frame = datum.cvOutputData\n",
    "\n",
    "    # Display detected keypoints\n",
    "    cv2.imshow(\"Pose Detection\", output_frame)\n",
    "\n",
    "    # Example: Detect if a person is waving\n",
    "    if keypoints is not None:\n",
    "        for person in keypoints:\n",
    "            # Example: Check hand keypoints for waving activity\n",
    "            # Left hand: keypoint 7, Right hand: keypoint 4\n",
    "            left_wrist = person[7]\n",
    "            right_wrist = person[4]\n",
    "\n",
    "            if left_wrist[2] > 0.5 or right_wrist[2] > 0.5:  # Check confidence\n",
    "                print(\"Detected hand movement!\")\n",
    "\n",
    "    # Break loop on 'q' key press\n",
    "    if cv2.waitKey(1) & 0xFF == ord('q'):\n",
    "        break\n",
    "\n",
    "cap.release()\n",
    "cv2.destroyAllWindows()\n"
   ]
  },
  {
   "cell_type": "code",
   "execution_count": null,
   "id": "1bc335ad-0461-4e79-8d11-6b34a38a0bef",
   "metadata": {},
   "outputs": [],
   "source": []
  }
 ],
 "metadata": {
  "kernelspec": {
   "display_name": "Python 3 (ipykernel)",
   "language": "python",
   "name": "python3"
  },
  "language_info": {
   "codemirror_mode": {
    "name": "ipython",
    "version": 3
   },
   "file_extension": ".py",
   "mimetype": "text/x-python",
   "name": "python",
   "nbconvert_exporter": "python",
   "pygments_lexer": "ipython3",
   "version": "3.11.7"
  }
 },
 "nbformat": 4,
 "nbformat_minor": 5
}

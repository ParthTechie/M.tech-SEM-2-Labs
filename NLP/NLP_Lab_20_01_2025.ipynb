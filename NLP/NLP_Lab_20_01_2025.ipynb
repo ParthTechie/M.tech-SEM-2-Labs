{
 "cells": [
  {
   "cell_type": "markdown",
   "id": "8d3bd555-eae3-42ef-a067-ad764efc7c1c",
   "metadata": {},
   "source": [
    "## D Vamsidhar - 24070149005\n",
    "### Lab 02 - \n",
    "### 20 Jan 2025"
   ]
  },
  {
   "cell_type": "code",
   "execution_count": 1,
   "id": "cf77fe4a-d2f1-4ed2-8426-0c23e0785cec",
   "metadata": {},
   "outputs": [],
   "source": [
    "import spacy"
   ]
  },
  {
   "cell_type": "code",
   "execution_count": 3,
   "id": "f14928ae-10b5-4621-9ff6-16ec74009ac6",
   "metadata": {},
   "outputs": [
    {
     "name": "stdout",
     "output_type": "stream",
     "text": [
      "Named Entities, Phrases and Types: \n",
      "Apple -> ORG\n",
      "U.K. -> GPE\n",
      "$1 billion -> MONEY\n",
      "Tim Cook -> PERSON\n",
      "Apple -> ORG\n",
      "San Francisco -> GPE\n"
     ]
    }
   ],
   "source": [
    "nlp = spacy.load('en_core_web_sm')\n",
    "\n",
    "# Define text\n",
    "text = 'Apple is looking at buying U.K. starting for $1 billion. Tim Cook, the CEO of Apple, announced this in San Francisco'\n",
    "\n",
    "# Process text with Spacy\n",
    "doc = nlp(text)\n",
    "\n",
    "# Print named entities\n",
    "print('Named Entities, Phrases and Types: ')\n",
    "for ent in doc.ents:\n",
    "    print(f'{ent.text} -> {ent.label_}')"
   ]
  },
  {
   "cell_type": "markdown",
   "id": "a4a6d6f4-eca0-4fe5-9bdf-4c8b7c83e5b9",
   "metadata": {},
   "source": [
    "### Render Named Entities"
   ]
  },
  {
   "cell_type": "code",
   "execution_count": 4,
   "id": "3aca8d65-f528-44d9-b7f0-ab4014822c05",
   "metadata": {},
   "outputs": [
    {
     "data": {
      "text/html": [
       "<span class=\"tex2jax_ignore\"><div class=\"entities\" style=\"line-height: 2.5; direction: ltr\">\n",
       "<mark class=\"entity\" style=\"background: #7aecec; padding: 0.45em 0.6em; margin: 0 0.25em; line-height: 1; border-radius: 0.35em;\">\n",
       "    Apple\n",
       "    <span style=\"font-size: 0.8em; font-weight: bold; line-height: 1; border-radius: 0.35em; vertical-align: middle; margin-left: 0.5rem\">ORG</span>\n",
       "</mark>\n",
       " is looking at buying \n",
       "<mark class=\"entity\" style=\"background: #feca74; padding: 0.45em 0.6em; margin: 0 0.25em; line-height: 1; border-radius: 0.35em;\">\n",
       "    U.K.\n",
       "    <span style=\"font-size: 0.8em; font-weight: bold; line-height: 1; border-radius: 0.35em; vertical-align: middle; margin-left: 0.5rem\">GPE</span>\n",
       "</mark>\n",
       " starting for \n",
       "<mark class=\"entity\" style=\"background: #e4e7d2; padding: 0.45em 0.6em; margin: 0 0.25em; line-height: 1; border-radius: 0.35em;\">\n",
       "    $1 billion\n",
       "    <span style=\"font-size: 0.8em; font-weight: bold; line-height: 1; border-radius: 0.35em; vertical-align: middle; margin-left: 0.5rem\">MONEY</span>\n",
       "</mark>\n",
       ". \n",
       "<mark class=\"entity\" style=\"background: #aa9cfc; padding: 0.45em 0.6em; margin: 0 0.25em; line-height: 1; border-radius: 0.35em;\">\n",
       "    Tim Cook\n",
       "    <span style=\"font-size: 0.8em; font-weight: bold; line-height: 1; border-radius: 0.35em; vertical-align: middle; margin-left: 0.5rem\">PERSON</span>\n",
       "</mark>\n",
       ", the CEO of \n",
       "<mark class=\"entity\" style=\"background: #7aecec; padding: 0.45em 0.6em; margin: 0 0.25em; line-height: 1; border-radius: 0.35em;\">\n",
       "    Apple\n",
       "    <span style=\"font-size: 0.8em; font-weight: bold; line-height: 1; border-radius: 0.35em; vertical-align: middle; margin-left: 0.5rem\">ORG</span>\n",
       "</mark>\n",
       ", announced this in \n",
       "<mark class=\"entity\" style=\"background: #feca74; padding: 0.45em 0.6em; margin: 0 0.25em; line-height: 1; border-radius: 0.35em;\">\n",
       "    San Francisco\n",
       "    <span style=\"font-size: 0.8em; font-weight: bold; line-height: 1; border-radius: 0.35em; vertical-align: middle; margin-left: 0.5rem\">GPE</span>\n",
       "</mark>\n",
       "</div></span>"
      ],
      "text/plain": [
       "<IPython.core.display.HTML object>"
      ]
     },
     "metadata": {},
     "output_type": "display_data"
    }
   ],
   "source": [
    "from spacy import displacy\n",
    "\n",
    "# Render Named Entities\n",
    "displacy.render(doc, style='ent', jupyter=True)"
   ]
  },
  {
   "cell_type": "markdown",
   "id": "fe2bd654-b0f7-4b49-9b1b-0aada09f129e",
   "metadata": {},
   "source": [
    "### Lemmatization"
   ]
  },
  {
   "cell_type": "code",
   "execution_count": 5,
   "id": "da4e7afe-f64d-4ac0-950e-4ee0cb878bc4",
   "metadata": {},
   "outputs": [
    {
     "name": "stdout",
     "output_type": "stream",
     "text": [
      "happieR: happieR\n",
      "happieSt: happieSt\n",
      "HappinesS: HappinesS\n",
      "haPPy: haPPy\n",
      "governing: govern\n",
      "government: government\n"
     ]
    }
   ],
   "source": [
    "doc = nlp('happieR happieSt HappinesS haPPy governing government')\n",
    "\n",
    "# Print Lemmes\n",
    "for token in doc:\n",
    "    print(f'{token.text}: {token.lemma_}')"
   ]
  },
  {
   "cell_type": "markdown",
   "id": "bae8bc83-d067-4f20-ad8b-b6f4b152773f",
   "metadata": {},
   "source": [
    "### The Regex Library"
   ]
  },
  {
   "cell_type": "code",
   "execution_count": 6,
   "id": "f447c8e0-ef8b-4151-8b35-9d31e8d0fea1",
   "metadata": {},
   "outputs": [],
   "source": [
    "import re"
   ]
  },
  {
   "cell_type": "markdown",
   "id": "98fb651f-8d90-4c47-b0fc-e40d43d838e2",
   "metadata": {},
   "source": [
    "### Example\n",
    "#### Search the strings to see if it starts with \"The\" and ends with \"Spain\""
   ]
  },
  {
   "cell_type": "code",
   "execution_count": 7,
   "id": "1c7738f8-65d4-41a1-91e7-a81ab4ec951e",
   "metadata": {},
   "outputs": [
    {
     "name": "stdout",
     "output_type": "stream",
     "text": [
      "<re.Match object; span=(0, 17), match='The rain in Spain'>\n"
     ]
    }
   ],
   "source": [
    "txt = 'The rain in Spain'\n",
    "s = re.search(\"^The.*Spain$\",txt)\n",
    "print(s)"
   ]
  },
  {
   "cell_type": "code",
   "execution_count": 8,
   "id": "c8d84b0f-8d81-45d3-821c-05561a91e15d",
   "metadata": {},
   "outputs": [],
   "source": [
    "text = '''MY PAN NO. is ABCDE7896C\n",
    "          ABC PAN NO. is YTEDC1234F\n",
    "          XYZ PAN NO. is AYRVF3698P'''"
   ]
  },
  {
   "cell_type": "code",
   "execution_count": 10,
   "id": "d44a44d3-709f-48c9-a276-96b862229a0f",
   "metadata": {},
   "outputs": [
    {
     "name": "stdout",
     "output_type": "stream",
     "text": [
      "[]\n"
     ]
    }
   ],
   "source": [
    "text = '''My mobile number is: 9993337777\n",
    "          email id is: abc@xyz.com\n",
    "          another email id xyz@hotmail.com\n",
    "          Aniket1234@sitpune.edu.in'''\n",
    "emails = re.findall('[A-z0-9]{1-50}@[a-z.]{1,50}',text)\n",
    "print(emails)"
   ]
  },
  {
   "cell_type": "code",
   "execution_count": 22,
   "id": "5abf8f44-88e5-4f34-b49a-64a812183040",
   "metadata": {},
   "outputs": [
    {
     "name": "stdout",
     "output_type": "stream",
     "text": [
      "Mobile No: ['9993337777']\n"
     ]
    }
   ],
   "source": [
    "text = '''My mobile number is: 9993337777\n",
    "          email id is: abc@xyz.com\n",
    "          today's date is: 20-01-2025\n",
    "          Name: D Vamsidhar'''\n",
    "\n",
    "mob_no = re.findall(r'\\d{10}', text)\n",
    "print('Mobile No:',mob_no)"
   ]
  },
  {
   "cell_type": "code",
   "execution_count": 23,
   "id": "db2e4d11-b9fd-4bc0-98b7-915dfec4275a",
   "metadata": {},
   "outputs": [
    {
     "name": "stdout",
     "output_type": "stream",
     "text": [
      "Emails: ['abc@xyz.com']\n"
     ]
    }
   ],
   "source": [
    "emails = re.findall(r'[a-zA-Z0-9._%+-]+@[a-zA-Z0-9.-]+\\.[a-zA-Z]{2,}', text)\n",
    "print('Emails:',emails)"
   ]
  },
  {
   "cell_type": "code",
   "execution_count": 25,
   "id": "ed8a7615-641d-473f-bdf9-e2aba284b156",
   "metadata": {},
   "outputs": [
    {
     "name": "stdout",
     "output_type": "stream",
     "text": [
      "Dates: ['20-01-2025']\n"
     ]
    }
   ],
   "source": [
    "dates = re.findall(r'\\d{2}[-/.]\\d{2}[-/.]\\d{4}', text)\n",
    "print('Dates:',dates)"
   ]
  },
  {
   "cell_type": "code",
   "execution_count": 26,
   "id": "8ed6f42d-86a4-4810-b41c-97ec35b60af2",
   "metadata": {},
   "outputs": [
    {
     "data": {
      "text/plain": [
       "<re.Match object; span=(21, 31), match='9993337777'>"
      ]
     },
     "execution_count": 26,
     "metadata": {},
     "output_type": "execute_result"
    }
   ],
   "source": [
    "mb_no = re.search('\\d{10}',text)\n",
    "mb_no"
   ]
  },
  {
   "cell_type": "code",
   "execution_count": null,
   "id": "e0546422-9d07-40eb-8211-34ea1534d993",
   "metadata": {},
   "outputs": [],
   "source": []
  }
 ],
 "metadata": {
  "kernelspec": {
   "display_name": "Python 3 (ipykernel)",
   "language": "python",
   "name": "python3"
  },
  "language_info": {
   "codemirror_mode": {
    "name": "ipython",
    "version": 3
   },
   "file_extension": ".py",
   "mimetype": "text/x-python",
   "name": "python",
   "nbconvert_exporter": "python",
   "pygments_lexer": "ipython3",
   "version": "3.9.21"
  }
 },
 "nbformat": 4,
 "nbformat_minor": 5
}

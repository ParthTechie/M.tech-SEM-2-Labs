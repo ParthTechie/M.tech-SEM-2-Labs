{
 "cells": [
  {
   "cell_type": "markdown",
   "id": "094a9a38",
   "metadata": {},
   "source": [
    "# NLP Assignment 02"
   ]
  },
  {
   "cell_type": "markdown",
   "id": "56310b3a",
   "metadata": {},
   "source": [
    "## Name: Parth Desai\n",
    "## PRN: 24070149017"
   ]
  },
  {
   "cell_type": "markdown",
   "id": "d007a8b5",
   "metadata": {},
   "source": [
    "## Part A: Named Entity Recognition (NER)"
   ]
  },
  {
   "cell_type": "markdown",
   "id": "39a419b6",
   "metadata": {},
   "source": [
    "### 1. Load any pre-trained SpaCy model and perform NER on the following text:\n",
    "### \"Elon Musk founded SpaceX in 2002 and later acquired Twitter, now known as X, in 2022.\"\n",
    "\n",
    "\n",
    "* Extract all named entities along with their entity types.\n",
    "* Display the entities in a tabular format (Entity, Entity Type)."
   ]
  },
  {
   "cell_type": "code",
   "execution_count": 2,
   "id": "d6857028",
   "metadata": {},
   "outputs": [
    {
     "name": "stdout",
     "output_type": "stream",
     "text": [
      "      Entity Entity Type\n",
      "0  Elon Musk      PERSON\n",
      "1       2002        DATE\n",
      "2    Twitter      PERSON\n",
      "3       2022        DATE\n"
     ]
    }
   ],
   "source": [
    "import spacy\n",
    "import pandas as pd\n",
    "\n",
    "# Load the pre-trained SpaCy model\n",
    "nlp = spacy.load('en_core_web_sm')\n",
    "\n",
    "# Input text\n",
    "text = \"Elon Musk founded SpaceX in 2002 and later acquired Twitter, now known as X, in 2022.\"\n",
    "\n",
    "# Apply the NLP pipeline\n",
    "doc = nlp(text)\n",
    "\n",
    "# Extract named entities\n",
    "entities = [(ent.text, ent.label_) for ent in doc.ents]\n",
    "\n",
    "# Display in tabular format\n",
    "df = pd.DataFrame(entities, columns=['Entity', 'Entity Type'])\n",
    "print(df)"
   ]
  },
  {
   "cell_type": "markdown",
   "id": "aff1bae3",
   "metadata": {},
   "source": [
    "### 2. Write a Python function that takes any text as input and highlights the following entity types:\n",
    "\n",
    "* Person\n",
    "* Organization\n",
    "* Date"
   ]
  },
  {
   "cell_type": "code",
   "execution_count": 1,
   "id": "f62400f9",
   "metadata": {},
   "outputs": [
    {
     "name": "stdout",
     "output_type": "stream",
     "text": [
      "      Entity Entity Type\n",
      "0  Elon Musk      PERSON\n",
      "1       2002        DATE\n",
      "2    Twitter      PERSON\n",
      "3       2022        DATE\n",
      "\n",
      "Highlighted Text:\n",
      " \u001b[1m\u001b[36mElon Musk\u001b[0m founded SpaceX in \u001b[1m\u001b[36m2002\u001b[0m and later acquired \u001b[1m\u001b[36mTwitter\u001b[0m, now known as X, in \u001b[1m\u001b[36m2022\u001b[0m.\n"
     ]
    }
   ],
   "source": [
    "import spacy\n",
    "import pandas as pd\n",
    "from termcolor import colored\n",
    "\n",
    "# Load the pre-trained SpaCy model\n",
    "nlp = spacy.load('en_core_web_sm')\n",
    "\n",
    "# Function to highlight specific entity types\n",
    "def highlight_entities(text):\n",
    "    doc = nlp(text)\n",
    "    highlighted_text = text\n",
    "\n",
    "    # Loop through entities in reverse to avoid index shifting\n",
    "    for ent in sorted(doc.ents, key=lambda x: x.start_char, reverse=True):\n",
    "        if ent.label_ in ['PERSON', 'ORG', 'DATE']:\n",
    "            highlighted_text = (\n",
    "                highlighted_text[:ent.start_char] + \n",
    "                colored(ent.text, 'cyan', attrs=['bold']) + \n",
    "                highlighted_text[ent.end_char:]\n",
    "            )\n",
    "    return highlighted_text\n",
    "\n",
    "# Input text\n",
    "text = \"Elon Musk founded SpaceX in 2002 and later acquired Twitter, now known as X, in 2022.\"\n",
    "\n",
    "# Apply the NLP pipeline\n",
    "doc = nlp(text)\n",
    "\n",
    "# Extract named entities\n",
    "entities = [(ent.text, ent.label_) for ent in doc.ents]\n",
    "\n",
    "# Display in tabular format\n",
    "df = pd.DataFrame(entities, columns=['Entity', 'Entity Type'])\n",
    "print(df)\n",
    "\n",
    "# Highlight specific entities\n",
    "highlighted_text = highlight_entities(text)\n",
    "print(\"\\nHighlighted Text:\\n\", highlighted_text)"
   ]
  },
  {
   "cell_type": "markdown",
   "id": "5191ea2b",
   "metadata": {},
   "source": [
    "## Part B: Regular Expressions"
   ]
  },
  {
   "cell_type": "markdown",
   "id": "a5aa9840",
   "metadata": {},
   "source": [
    "### 3. Use Python's re module to extract all email addresses from the following text:\n",
    "### \"Please contact us at support@example.com, info@nlp.com, or feedback123@textai.org for further details.\""
   ]
  },
  {
   "cell_type": "code",
   "execution_count": 6,
   "id": "2f64ae81",
   "metadata": {},
   "outputs": [
    {
     "name": "stdout",
     "output_type": "stream",
     "text": [
      "support@example.com\n",
      "info@nlp.com\n",
      "feedback123@textai.org\n"
     ]
    }
   ],
   "source": [
    "import re\n",
    "\n",
    "# Input text\n",
    "text = \"Please contact us at support@example.com, info@nlp.com, or feedback123@textai.org for further details.\"\n",
    "\n",
    "# Regular expression pattern for email addresses\n",
    "email_pattern = r'[\\w\\.-]+@[\\w\\.-]+\\.\\w+'\n",
    "\n",
    "# Extract email addresses\n",
    "email_addresses = re.findall(email_pattern, text)\n",
    "\n",
    "# Display the extracted email addresses\n",
    "for email in email_addresses:\n",
    "    print(email)"
   ]
  },
  {
   "cell_type": "markdown",
   "id": "a33445e0",
   "metadata": {},
   "source": [
    "### 4. Write a Python script to perform the following tasks:\n",
    "\n",
    "* Replace all digits in the text:\n",
    "\"The meeting is scheduled for 10:30 AM on 25th January 2025.\"\n",
    "Replace digits with the string '*'.\n",
    "\n",
    "* Find and extract all dates from the text:\n",
    " \"Important dates are 25-01-2025, 26/01/2025, and 27-01-2025.\""
   ]
  },
  {
   "cell_type": "code",
   "execution_count": 7,
   "id": "759a2071",
   "metadata": {},
   "outputs": [
    {
     "name": "stdout",
     "output_type": "stream",
     "text": [
      "Text after replacing digits: The meeting is scheduled for **:** AM on **th January ****.\n",
      "Extracted dates: ['25-01-2025', '26/01/2025', '27-01-2025']\n"
     ]
    }
   ],
   "source": [
    "import re\n",
    "\n",
    "# Task 1: Replace all digits with '*'\n",
    "text1 = \"The meeting is scheduled for 10:30 AM on 25th January 2025.\"\n",
    "replaced_text = re.sub(r'\\d', '*', text1)\n",
    "print(\"Text after replacing digits:\", replaced_text)\n",
    "\n",
    "# Task 2: Extract all dates\n",
    "text2 = \"Important dates are 25-01-2025, 26/01/2025, and 27-01-2025.\"\n",
    "date_pattern = r'\\b\\d{2}[-/]\\d{2}[-/]\\d{4}\\b'\n",
    "dates = re.findall(date_pattern, text2)\n",
    "\n",
    "print(\"Extracted dates:\", dates)"
   ]
  },
  {
   "cell_type": "markdown",
   "id": "92a05b46",
   "metadata": {},
   "source": [
    "### 5. Implement a function using regular expressions to check whether a given string is a valid Indian phone number (10 digits, starts with 7, 8, or 9). Test your function with various inputs.\n"
   ]
  },
  {
   "cell_type": "code",
   "execution_count": 8,
   "id": "4301f355",
   "metadata": {},
   "outputs": [
    {
     "name": "stdout",
     "output_type": "stream",
     "text": [
      "Phone Number: 9876543210 - Valid\n",
      "Phone Number: 8123456789 - Valid\n",
      "Phone Number: 7123456789 - Valid\n",
      "Phone Number: 6123456789 - Invalid\n",
      "Phone Number: 987654321 - Invalid\n",
      "Phone Number: 998877665544 - Invalid\n"
     ]
    }
   ],
   "source": [
    "import re\n",
    "\n",
    "# Function to validate Indian phone numbers\n",
    "def is_valid_indian_phone(number):\n",
    "    pattern = r'^[789]\\d{9}$'\n",
    "    return bool(re.match(pattern, number))\n",
    "\n",
    "# Test the function with various inputs\n",
    "test_numbers = [\n",
    "    \"9876543210\",  # Valid\n",
    "    \"8123456789\",  # Valid\n",
    "    \"7123456789\",  # Valid\n",
    "    \"6123456789\",  # Invalid (starts with 6)\n",
    "    \"987654321\",   # Invalid (9 digits)\n",
    "    \"998877665544\" # Invalid (12 digits)\n",
    "]\n",
    "\n",
    "# Display the results\n",
    "for number in test_numbers:\n",
    "    result = \"Valid\" if is_valid_indian_phone(number) else \"Invalid\"\n",
    "    print(f\"Phone Number: {number} - {result}\")"
   ]
  },
  {
   "cell_type": "code",
   "execution_count": null,
   "id": "6bf1a7a4",
   "metadata": {},
   "outputs": [],
   "source": []
  }
 ],
 "metadata": {
  "kernelspec": {
   "display_name": "Python 3 (ipykernel)",
   "language": "python",
   "name": "python3"
  },
  "language_info": {
   "codemirror_mode": {
    "name": "ipython",
    "version": 3
   },
   "file_extension": ".py",
   "mimetype": "text/x-python",
   "name": "python",
   "nbconvert_exporter": "python",
   "pygments_lexer": "ipython3",
   "version": "3.11.3"
  }
 },
 "nbformat": 4,
 "nbformat_minor": 5
}

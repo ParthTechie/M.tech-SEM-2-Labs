{
 "cells": [
  {
   "cell_type": "markdown",
   "metadata": {},
   "source": [
    "## D Vamsidhar - 24070149005\n",
    "### NLP - Lab 03/02/2025"
   ]
  },
  {
   "cell_type": "markdown",
   "metadata": {},
   "source": [
    "### Introduction to Word Vectorization"
   ]
  },
  {
   "cell_type": "markdown",
   "metadata": {},
   "source": [
    "### Count Vectorizer"
   ]
  },
  {
   "cell_type": "code",
   "execution_count": 5,
   "metadata": {},
   "outputs": [
    {
     "name": "stdout",
     "output_type": "stream",
     "text": [
      "Vocabulary: ['language' 'learning' 'love' 'natural' 'new' 'processing' 'things']\n",
      "Count Matric:\n",
      " [[1 0 1 1 0 1 0]\n",
      " [0 1 1 0 1 0 1]]\n"
     ]
    }
   ],
   "source": [
    "from sklearn.feature_extraction.text import CountVectorizer\n",
    "\n",
    "# Sample sentence \n",
    "sentences = [\"I love natural language processing\", \"I love learning new things\"]\n",
    "\n",
    "# Initialize count vectorizer\n",
    "vectorizer = CountVectorizer()\n",
    "\n",
    "# Fit and transform the sentences \n",
    "X = vectorizer.fit_transform(sentences)\n",
    "\n",
    "# Display the vocabulary\n",
    "print(\"Vocabulary:\", vectorizer.get_feature_names_out())\n",
    "\n",
    "# Display the count matrix\n",
    "print(\"Count Matric:\\n\",X.toarray())"
   ]
  },
  {
   "cell_type": "code",
   "execution_count": 6,
   "metadata": {},
   "outputs": [
    {
     "data": {
      "text/html": [
       "<div>\n",
       "<style scoped>\n",
       "    .dataframe tbody tr th:only-of-type {\n",
       "        vertical-align: middle;\n",
       "    }\n",
       "\n",
       "    .dataframe tbody tr th {\n",
       "        vertical-align: top;\n",
       "    }\n",
       "\n",
       "    .dataframe thead th {\n",
       "        text-align: right;\n",
       "    }\n",
       "</style>\n",
       "<table border=\"1\" class=\"dataframe\">\n",
       "  <thead>\n",
       "    <tr style=\"text-align: right;\">\n",
       "      <th></th>\n",
       "      <th>language</th>\n",
       "      <th>learning</th>\n",
       "      <th>love</th>\n",
       "      <th>natural</th>\n",
       "      <th>new</th>\n",
       "      <th>processing</th>\n",
       "      <th>things</th>\n",
       "    </tr>\n",
       "  </thead>\n",
       "  <tbody>\n",
       "    <tr>\n",
       "      <th>0</th>\n",
       "      <td>1</td>\n",
       "      <td>0</td>\n",
       "      <td>1</td>\n",
       "      <td>1</td>\n",
       "      <td>0</td>\n",
       "      <td>1</td>\n",
       "      <td>0</td>\n",
       "    </tr>\n",
       "    <tr>\n",
       "      <th>1</th>\n",
       "      <td>0</td>\n",
       "      <td>1</td>\n",
       "      <td>1</td>\n",
       "      <td>0</td>\n",
       "      <td>1</td>\n",
       "      <td>0</td>\n",
       "      <td>1</td>\n",
       "    </tr>\n",
       "  </tbody>\n",
       "</table>\n",
       "</div>"
      ],
      "text/plain": [
       "   language  learning  love  natural  new  processing  things\n",
       "0         1         0     1        1    0           1       0\n",
       "1         0         1     1        0    1           0       1"
      ]
     },
     "execution_count": 6,
     "metadata": {},
     "output_type": "execute_result"
    }
   ],
   "source": [
    "import pandas as pd\n",
    "\n",
    "df = pd.DataFrame(X.toarray(), columns=vectorizer.get_feature_names_out())\n",
    "\n",
    "df"
   ]
  },
  {
   "cell_type": "markdown",
   "metadata": {},
   "source": [
    "#### Practice"
   ]
  },
  {
   "cell_type": "code",
   "execution_count": null,
   "metadata": {},
   "outputs": [],
   "source": [
    "sentences = [\"Abraham Lincoln was an Americam lawyer, politician, and statesman who served as the 16th president.\"]"
   ]
  },
  {
   "cell_type": "markdown",
   "metadata": {},
   "source": [
    "### Tf-IDF [ <strong>Term Frequency - Inverse Document Frequency</strong> ] Vectorizer\n",
    "\n",
    "* statistical measure used to evaluate the importance of a word in a document relative to a collection of document.\n",
    "* TF = (No. of times term t appears in a document)/(Total number of terms in the document)\n",
    "* IDF = log_e(Total no. of documents/No. of documents with terms t in it)\n",
    "* <i><strong>TF_IDF = TF * IDF</strong></i>"
   ]
  },
  {
   "cell_type": "code",
   "execution_count": 11,
   "metadata": {},
   "outputs": [
    {
     "name": "stdout",
     "output_type": "stream",
     "text": [
      "Vocabulary: ['28' 'after' 'cup' 'dhoni' 'for' 'india' 'lifts' 'the' 'wins' 'world'\n",
      " 'years']\n",
      "Count Matric:\n",
      " [[0.         0.         0.33471228 0.47042643 0.47042643 0.33471228\n",
      "  0.         0.         0.47042643 0.33471228 0.        ]\n",
      " [0.39166832 0.39166832 0.27867523 0.         0.         0.27867523\n",
      "  0.39166832 0.39166832 0.         0.27867523 0.39166832]]\n"
     ]
    }
   ],
   "source": [
    "from sklearn.feature_extraction.text import TfidfVectorizer\n",
    "\n",
    "# Sample sentence \n",
    "sentences = [\"Dhoni wins world cup for India\", \"India lifts the World Cup after 28 years\"]\n",
    "\n",
    "# Initialize count vectorizer\n",
    "vectorizer = TfidfVectorizer()\n",
    "\n",
    "# Fit and transform the sentences \n",
    "X = vectorizer.fit_transform(sentences)\n",
    "\n",
    "# Display the vocabulary\n",
    "print(\"Vocabulary:\", vectorizer.get_feature_names_out())\n",
    "\n",
    "# Display the count matrix\n",
    "print(\"Count Matric:\\n\",X.toarray())"
   ]
  },
  {
   "cell_type": "code",
   "execution_count": 12,
   "metadata": {},
   "outputs": [
    {
     "data": {
      "text/html": [
       "<div>\n",
       "<style scoped>\n",
       "    .dataframe tbody tr th:only-of-type {\n",
       "        vertical-align: middle;\n",
       "    }\n",
       "\n",
       "    .dataframe tbody tr th {\n",
       "        vertical-align: top;\n",
       "    }\n",
       "\n",
       "    .dataframe thead th {\n",
       "        text-align: right;\n",
       "    }\n",
       "</style>\n",
       "<table border=\"1\" class=\"dataframe\">\n",
       "  <thead>\n",
       "    <tr style=\"text-align: right;\">\n",
       "      <th></th>\n",
       "      <th>28</th>\n",
       "      <th>after</th>\n",
       "      <th>cup</th>\n",
       "      <th>dhoni</th>\n",
       "      <th>for</th>\n",
       "      <th>india</th>\n",
       "      <th>lifts</th>\n",
       "      <th>the</th>\n",
       "      <th>wins</th>\n",
       "      <th>world</th>\n",
       "      <th>years</th>\n",
       "    </tr>\n",
       "  </thead>\n",
       "  <tbody>\n",
       "    <tr>\n",
       "      <th>0</th>\n",
       "      <td>0.000000</td>\n",
       "      <td>0.000000</td>\n",
       "      <td>0.334712</td>\n",
       "      <td>0.470426</td>\n",
       "      <td>0.470426</td>\n",
       "      <td>0.334712</td>\n",
       "      <td>0.000000</td>\n",
       "      <td>0.000000</td>\n",
       "      <td>0.470426</td>\n",
       "      <td>0.334712</td>\n",
       "      <td>0.000000</td>\n",
       "    </tr>\n",
       "    <tr>\n",
       "      <th>1</th>\n",
       "      <td>0.391668</td>\n",
       "      <td>0.391668</td>\n",
       "      <td>0.278675</td>\n",
       "      <td>0.000000</td>\n",
       "      <td>0.000000</td>\n",
       "      <td>0.278675</td>\n",
       "      <td>0.391668</td>\n",
       "      <td>0.391668</td>\n",
       "      <td>0.000000</td>\n",
       "      <td>0.278675</td>\n",
       "      <td>0.391668</td>\n",
       "    </tr>\n",
       "  </tbody>\n",
       "</table>\n",
       "</div>"
      ],
      "text/plain": [
       "         28     after       cup     dhoni       for     india     lifts  \\\n",
       "0  0.000000  0.000000  0.334712  0.470426  0.470426  0.334712  0.000000   \n",
       "1  0.391668  0.391668  0.278675  0.000000  0.000000  0.278675  0.391668   \n",
       "\n",
       "        the      wins     world     years  \n",
       "0  0.000000  0.470426  0.334712  0.000000  \n",
       "1  0.391668  0.000000  0.278675  0.391668  "
      ]
     },
     "execution_count": 12,
     "metadata": {},
     "output_type": "execute_result"
    }
   ],
   "source": [
    "import pandas as pd\n",
    "\n",
    "df = pd.DataFrame(X.toarray(), columns=vectorizer.get_feature_names_out())\n",
    "\n",
    "df"
   ]
  },
  {
   "cell_type": "code",
   "execution_count": null,
   "metadata": {},
   "outputs": [],
   "source": []
  }
 ],
 "metadata": {
  "kernelspec": {
   "display_name": "base",
   "language": "python",
   "name": "python3"
  },
  "language_info": {
   "codemirror_mode": {
    "name": "ipython",
    "version": 3
   },
   "file_extension": ".py",
   "mimetype": "text/x-python",
   "name": "python",
   "nbconvert_exporter": "python",
   "pygments_lexer": "ipython3",
   "version": "3.11.7"
  }
 },
 "nbformat": 4,
 "nbformat_minor": 2
}
